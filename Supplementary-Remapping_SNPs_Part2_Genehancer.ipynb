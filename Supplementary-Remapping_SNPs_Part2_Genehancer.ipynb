{
 "cells": [
  {
   "cell_type": "markdown",
   "metadata": {},
   "source": [
    "# Part II\n",
    "\n",
    "# Remapping SNPs in promoters, genes and enhancers (Genehancer)\n",
    "\n",
    "For promoters, I will associate the center of the ENSEMBL curated promoters within 2500 base pairs of the TSS (Gao 2016)\n",
    "\n",
    "For enhancers, I will remap using two sets of databases:\n",
    "\n",
    "EnhancerAtlas (Thymus, Fetal Spinal Cord, and Astrocyte) (Gao et al, Bioinformatics 2016)\n",
    "\n",
    "Genehancer (Predicted using HiC data and curated data) (Fishelevich et al, Database 2017)\n",
    "\n",
    "In each case, the most significant SNP will be assigned to the gene"
   ]
  },
  {
   "cell_type": "code",
   "execution_count": 1,
   "metadata": {},
   "outputs": [],
   "source": [
    "import pandas as pd"
   ]
  },
  {
   "cell_type": "code",
   "execution_count": 33,
   "metadata": {},
   "outputs": [
    {
     "data": {
      "text/html": [
       "<div>\n",
       "<style scoped>\n",
       "    .dataframe tbody tr th:only-of-type {\n",
       "        vertical-align: middle;\n",
       "    }\n",
       "\n",
       "    .dataframe tbody tr th {\n",
       "        vertical-align: top;\n",
       "    }\n",
       "\n",
       "    .dataframe thead th {\n",
       "        text-align: right;\n",
       "    }\n",
       "</style>\n",
       "<table border=\"1\" class=\"dataframe\">\n",
       "  <thead>\n",
       "    <tr style=\"text-align: right;\">\n",
       "      <th></th>\n",
       "      <th>chrom</th>\n",
       "      <th>start</th>\n",
       "      <th>end</th>\n",
       "      <th>attributes</th>\n",
       "    </tr>\n",
       "  </thead>\n",
       "  <tbody>\n",
       "    <tr>\n",
       "      <th>0</th>\n",
       "      <td>chr22</td>\n",
       "      <td>25191646</td>\n",
       "      <td>25191697</td>\n",
       "      <td>genehancer_id=GH22H025191;connected_gene=GC22P...</td>\n",
       "    </tr>\n",
       "    <tr>\n",
       "      <th>1</th>\n",
       "      <td>chr10</td>\n",
       "      <td>36278128</td>\n",
       "      <td>36278746</td>\n",
       "      <td>genehancer_id=GH10H036278;connected_gene=GC10M...</td>\n",
       "    </tr>\n",
       "    <tr>\n",
       "      <th>2</th>\n",
       "      <td>chr4</td>\n",
       "      <td>141347800</td>\n",
       "      <td>141349400</td>\n",
       "      <td>genehancer_id=GH04H141347;connected_gene=LINC0...</td>\n",
       "    </tr>\n",
       "    <tr>\n",
       "      <th>3</th>\n",
       "      <td>chr6</td>\n",
       "      <td>36141287</td>\n",
       "      <td>36142442</td>\n",
       "      <td>genehancer_id=GH06H036141;connected_gene=MAPK1...</td>\n",
       "    </tr>\n",
       "    <tr>\n",
       "      <th>4</th>\n",
       "      <td>chr4</td>\n",
       "      <td>184644792</td>\n",
       "      <td>184651047</td>\n",
       "      <td>genehancer_id=GH04H184644;connected_gene=CENPU...</td>\n",
       "    </tr>\n",
       "  </tbody>\n",
       "</table>\n",
       "</div>"
      ],
      "text/plain": [
       "   chrom      start        end  \\\n",
       "0  chr22   25191646   25191697   \n",
       "1  chr10   36278128   36278746   \n",
       "2   chr4  141347800  141349400   \n",
       "3   chr6   36141287   36142442   \n",
       "4   chr4  184644792  184651047   \n",
       "\n",
       "                                          attributes  \n",
       "0  genehancer_id=GH22H025191;connected_gene=GC22P...  \n",
       "1  genehancer_id=GH10H036278;connected_gene=GC10M...  \n",
       "2  genehancer_id=GH04H141347;connected_gene=LINC0...  \n",
       "3  genehancer_id=GH06H036141;connected_gene=MAPK1...  \n",
       "4  genehancer_id=GH04H184644;connected_gene=CENPU...  "
      ]
     },
     "execution_count": 33,
     "metadata": {},
     "output_type": "execute_result"
    }
   ],
   "source": [
    "#first load genehancer into python\n",
    "\n",
    "genehancer = pd.read_excel('genehancer.xlsx')\n",
    "genehancer = genehancer.loc[:,['chrom','start','end','attributes']]\n",
    "genehancer.head()"
   ]
  },
  {
   "cell_type": "code",
   "execution_count": 40,
   "metadata": {},
   "outputs": [
    {
     "data": {
      "text/plain": [
       "3365"
      ]
     },
     "execution_count": 40,
     "metadata": {},
     "output_type": "execute_result"
    }
   ],
   "source": [
    "#map snps to enhancers\n",
    "\n",
    "enh_mat = genehancer.as_matrix()\n",
    "snp_mat = pd.read_csv('hglft_genome_snps_38.BED', header = None, sep = '\\t')\n",
    "snp_mat = snp_mat.as_matrix() #from hg18 to hg38\n",
    "\n",
    "snpmap_gh = [[d[3],f[3]] for d in snp_mat for f in enh_mat if f[0] == d[0] and d[1] >= f[1] and d[1] <= f[2]]\n",
    "len(snpmap_gh)"
   ]
  },
  {
   "cell_type": "code",
   "execution_count": 58,
   "metadata": {},
   "outputs": [
    {
     "data": {
      "text/html": [
       "<div>\n",
       "<style scoped>\n",
       "    .dataframe tbody tr th:only-of-type {\n",
       "        vertical-align: middle;\n",
       "    }\n",
       "\n",
       "    .dataframe tbody tr th {\n",
       "        vertical-align: top;\n",
       "    }\n",
       "\n",
       "    .dataframe thead th {\n",
       "        text-align: right;\n",
       "    }\n",
       "</style>\n",
       "<table border=\"1\" class=\"dataframe\">\n",
       "  <thead>\n",
       "    <tr style=\"text-align: right;\">\n",
       "      <th></th>\n",
       "      <th>snpid</th>\n",
       "      <th>attributes</th>\n",
       "    </tr>\n",
       "  </thead>\n",
       "  <tbody>\n",
       "    <tr>\n",
       "      <th>0</th>\n",
       "      <td>2438059</td>\n",
       "      <td>genehancer_id=GH01H002436;connected_gene=MORN1...</td>\n",
       "    </tr>\n",
       "    <tr>\n",
       "      <th>1</th>\n",
       "      <td>2459149</td>\n",
       "      <td>genehancer_id=GH01H002456;connected_gene=SLC35...</td>\n",
       "    </tr>\n",
       "    <tr>\n",
       "      <th>2</th>\n",
       "      <td>3214671</td>\n",
       "      <td>genehancer_id=GH01H003214;connected_gene=LOC10...</td>\n",
       "    </tr>\n",
       "    <tr>\n",
       "      <th>3</th>\n",
       "      <td>6065024</td>\n",
       "      <td>genehancer_id=GH01H006063;connected_gene=CHD5;...</td>\n",
       "    </tr>\n",
       "    <tr>\n",
       "      <th>4</th>\n",
       "      <td>6069775</td>\n",
       "      <td>genehancer_id=GH01H006069;connected_gene=CHD5;...</td>\n",
       "    </tr>\n",
       "  </tbody>\n",
       "</table>\n",
       "</div>"
      ],
      "text/plain": [
       "     snpid                                         attributes\n",
       "0  2438059  genehancer_id=GH01H002436;connected_gene=MORN1...\n",
       "1  2459149  genehancer_id=GH01H002456;connected_gene=SLC35...\n",
       "2  3214671  genehancer_id=GH01H003214;connected_gene=LOC10...\n",
       "3  6065024  genehancer_id=GH01H006063;connected_gene=CHD5;...\n",
       "4  6069775  genehancer_id=GH01H006069;connected_gene=CHD5;..."
      ]
     },
     "execution_count": 58,
     "metadata": {},
     "output_type": "execute_result"
    }
   ],
   "source": [
    "snpmap_gh = pd.DataFrame(snpmap_gh)\n",
    "snpmap_gh.columns = ['snpid','attributes']\n",
    "snpmap_gh.head()"
   ]
  },
  {
   "cell_type": "code",
   "execution_count": 67,
   "metadata": {},
   "outputs": [],
   "source": [
    "snpmap_gh['attributes'] = snpmap_gh['attributes'].str[26:]\n",
    "snpmap_gh['attributes'] = snpmap_gh['attributes'].str.replace('connected_gene=','')\n",
    "snpmap_gh['attributes'] = snpmap_gh['attributes'].str.split(';')"
   ]
  },
  {
   "cell_type": "code",
   "execution_count": 68,
   "metadata": {},
   "outputs": [],
   "source": [
    "x = []\n",
    "for d in snpmap_gh['attributes']:\n",
    "    x.append([k for k in d if 'score' not in k])"
   ]
  },
  {
   "cell_type": "code",
   "execution_count": 69,
   "metadata": {},
   "outputs": [
    {
     "data": {
      "text/plain": [
       "0    [MORN1, FAAP20, ATAD3B, LOC100129534, ENSG0000...\n",
       "1                 [SLC35E2B, GC01M002449, GC01M002425]\n",
       "2                [LOC105378605, PIR41593, GC01P003241]\n",
       "3                    [CHD5, GC01M006038, LOC105376687]\n",
       "4    [CHD5, RNF207, LOC102724450, RPL22, GC01M00603...\n",
       "Name: attributes, dtype: object"
      ]
     },
     "execution_count": 69,
     "metadata": {},
     "output_type": "execute_result"
    }
   ],
   "source": [
    "snpmap_gh['attributes'] = x\n",
    "snpmap_gh['attributes'].head()"
   ]
  },
  {
   "cell_type": "code",
   "execution_count": 70,
   "metadata": {},
   "outputs": [
    {
     "data": {
      "text/html": [
       "<div>\n",
       "<style scoped>\n",
       "    .dataframe tbody tr th:only-of-type {\n",
       "        vertical-align: middle;\n",
       "    }\n",
       "\n",
       "    .dataframe tbody tr th {\n",
       "        vertical-align: top;\n",
       "    }\n",
       "\n",
       "    .dataframe thead th {\n",
       "        text-align: right;\n",
       "    }\n",
       "</style>\n",
       "<table border=\"1\" class=\"dataframe\">\n",
       "  <thead>\n",
       "    <tr style=\"text-align: right;\">\n",
       "      <th></th>\n",
       "      <th>snpid</th>\n",
       "      <th>gene</th>\n",
       "    </tr>\n",
       "  </thead>\n",
       "  <tbody>\n",
       "    <tr>\n",
       "      <th>0</th>\n",
       "      <td>rs4592207</td>\n",
       "      <td>MORN1</td>\n",
       "    </tr>\n",
       "    <tr>\n",
       "      <th>0</th>\n",
       "      <td>rs4592207</td>\n",
       "      <td>FAAP20</td>\n",
       "    </tr>\n",
       "    <tr>\n",
       "      <th>0</th>\n",
       "      <td>rs4592207</td>\n",
       "      <td>ATAD3B</td>\n",
       "    </tr>\n",
       "    <tr>\n",
       "      <th>0</th>\n",
       "      <td>rs4592207</td>\n",
       "      <td>LOC100129534</td>\n",
       "    </tr>\n",
       "    <tr>\n",
       "      <th>0</th>\n",
       "      <td>rs4592207</td>\n",
       "      <td>ENSG00000234396</td>\n",
       "    </tr>\n",
       "  </tbody>\n",
       "</table>\n",
       "</div>"
      ],
      "text/plain": [
       "       snpid             gene\n",
       "0  rs4592207            MORN1\n",
       "0  rs4592207           FAAP20\n",
       "0  rs4592207           ATAD3B\n",
       "0  rs4592207     LOC100129534\n",
       "0  rs4592207  ENSG00000234396"
      ]
     },
     "execution_count": 70,
     "metadata": {},
     "output_type": "execute_result"
    }
   ],
   "source": [
    "genes = snpmap_gh.apply(lambda x: pd.Series(x['attributes']),axis=1).stack().reset_index(level=1, drop=True)\n",
    "genes.name = 'gene'\n",
    "snpmap_gh = snpmap_gh.drop('attributes', axis=1).join(genes)\n",
    "snpmap_gh.head()"
   ]
  },
  {
   "cell_type": "code",
   "execution_count": 74,
   "metadata": {},
   "outputs": [],
   "source": [
    "snpmap_gh.to_csv('genehancer_snps.csv', index = False, header = False)"
   ]
  },
  {
   "cell_type": "code",
   "execution_count": 73,
   "metadata": {},
   "outputs": [
    {
     "data": {
      "text/plain": [
       "4277"
      ]
     },
     "execution_count": 73,
     "metadata": {},
     "output_type": "execute_result"
    }
   ],
   "source": [
    "#Remap snps to promoters and genes\n",
    "\n",
    "mapped_promoters = pd.read_csv('hg38_promoters_mapped_by_tss.csv')\n",
    "p_mat = mapped_promoters.as_matrix()\n",
    "snpmap_p = {d[3]:f[3] for d in snp_mat for f in p_mat if f[0] == d[0] and d[1] >= f[1] and d[1] <= f[2]}\n",
    "len(snpmap_p) #the number of significant snps mapped to promoters is 249\n",
    "\n",
    "genes = pd.read_csv('genes_BED.BED', sep = '\\t')\n",
    "g_mat = genes.as_matrix()\n",
    "snpmap_g = {d[3]:f[3] for d in snp_mat for f in g_mat if f[0] == d[0] and d[1] >= f[1] and d[1] <= f[2]}\n",
    "len(snpmap_g) #the number of significant snps mapped to genes was 4277"
   ]
  },
  {
   "cell_type": "code",
   "execution_count": 76,
   "metadata": {},
   "outputs": [
    {
     "data": {
      "text/html": [
       "<div>\n",
       "<style scoped>\n",
       "    .dataframe tbody tr th:only-of-type {\n",
       "        vertical-align: middle;\n",
       "    }\n",
       "\n",
       "    .dataframe tbody tr th {\n",
       "        vertical-align: top;\n",
       "    }\n",
       "\n",
       "    .dataframe thead th {\n",
       "        text-align: right;\n",
       "    }\n",
       "</style>\n",
       "<table border=\"1\" class=\"dataframe\">\n",
       "  <thead>\n",
       "    <tr style=\"text-align: right;\">\n",
       "      <th></th>\n",
       "      <th>snpid</th>\n",
       "      <th>chr</th>\n",
       "      <th>bp</th>\n",
       "      <th>pval</th>\n",
       "    </tr>\n",
       "  </thead>\n",
       "  <tbody>\n",
       "    <tr>\n",
       "      <th>147</th>\n",
       "      <td>rs3737721</td>\n",
       "      <td>chr1</td>\n",
       "      <td>1217760</td>\n",
       "      <td>0.004550</td>\n",
       "    </tr>\n",
       "    <tr>\n",
       "      <th>531</th>\n",
       "      <td>rs4592207</td>\n",
       "      <td>chr1</td>\n",
       "      <td>2359358</td>\n",
       "      <td>0.001813</td>\n",
       "    </tr>\n",
       "    <tr>\n",
       "      <th>537</th>\n",
       "      <td>rs10910078</td>\n",
       "      <td>chr1</td>\n",
       "      <td>2380448</td>\n",
       "      <td>0.002838</td>\n",
       "    </tr>\n",
       "    <tr>\n",
       "      <th>600</th>\n",
       "      <td>rs12133956</td>\n",
       "      <td>chr1</td>\n",
       "      <td>2518200</td>\n",
       "      <td>0.003047</td>\n",
       "    </tr>\n",
       "    <tr>\n",
       "      <th>789</th>\n",
       "      <td>rs10909901</td>\n",
       "      <td>chr1</td>\n",
       "      <td>3121095</td>\n",
       "      <td>0.002338</td>\n",
       "    </tr>\n",
       "  </tbody>\n",
       "</table>\n",
       "</div>"
      ],
      "text/plain": [
       "          snpid   chr       bp      pval\n",
       "147   rs3737721  chr1  1217760  0.004550\n",
       "531   rs4592207  chr1  2359358  0.001813\n",
       "537  rs10910078  chr1  2380448  0.002838\n",
       "600  rs12133956  chr1  2518200  0.003047\n",
       "789  rs10909901  chr1  3121095  0.002338"
      ]
     },
     "execution_count": 76,
     "metadata": {},
     "output_type": "execute_result"
    }
   ],
   "source": [
    "#Load snp database\n",
    "\n",
    "snps = pd.read_csv('snp_level_summary_stats_pmid_25056061.txt', sep = '\\t', skiprows = 1, header = None)\n",
    "snps.columns = ['snpid','chr','bp','a1','a2','or','se','pval','info','ngt','CEUaf']\n",
    "snps = snps.loc[:,['snpid','chr','bp','pval']]\n",
    "x = []\n",
    "for d in snps.loc[:,'chr']:\n",
    "    x.append('chr'+str(d))\n",
    "snps['chr'] = pd.DataFrame(x)\n",
    "snps = snps.loc[snps['pval']<0.005]\n",
    "snps.head()"
   ]
  },
  {
   "cell_type": "code",
   "execution_count": 79,
   "metadata": {},
   "outputs": [
    {
     "data": {
      "text/html": [
       "<div>\n",
       "<style scoped>\n",
       "    .dataframe tbody tr th:only-of-type {\n",
       "        vertical-align: middle;\n",
       "    }\n",
       "\n",
       "    .dataframe tbody tr th {\n",
       "        vertical-align: top;\n",
       "    }\n",
       "\n",
       "    .dataframe thead th {\n",
       "        text-align: right;\n",
       "    }\n",
       "</style>\n",
       "<table border=\"1\" class=\"dataframe\">\n",
       "  <thead>\n",
       "    <tr style=\"text-align: right;\">\n",
       "      <th></th>\n",
       "      <th>snpid</th>\n",
       "      <th>gene</th>\n",
       "      <th>chr</th>\n",
       "      <th>bp</th>\n",
       "      <th>pval</th>\n",
       "    </tr>\n",
       "  </thead>\n",
       "  <tbody>\n",
       "    <tr>\n",
       "      <th>0</th>\n",
       "      <td>rs4592207</td>\n",
       "      <td>MORN1</td>\n",
       "      <td>chr1</td>\n",
       "      <td>2359358</td>\n",
       "      <td>0.001813</td>\n",
       "    </tr>\n",
       "    <tr>\n",
       "      <th>1</th>\n",
       "      <td>rs4592207</td>\n",
       "      <td>FAAP20</td>\n",
       "      <td>chr1</td>\n",
       "      <td>2359358</td>\n",
       "      <td>0.001813</td>\n",
       "    </tr>\n",
       "    <tr>\n",
       "      <th>2</th>\n",
       "      <td>rs4592207</td>\n",
       "      <td>ATAD3B</td>\n",
       "      <td>chr1</td>\n",
       "      <td>2359358</td>\n",
       "      <td>0.001813</td>\n",
       "    </tr>\n",
       "    <tr>\n",
       "      <th>3</th>\n",
       "      <td>rs4592207</td>\n",
       "      <td>LOC100129534</td>\n",
       "      <td>chr1</td>\n",
       "      <td>2359358</td>\n",
       "      <td>0.001813</td>\n",
       "    </tr>\n",
       "    <tr>\n",
       "      <th>4</th>\n",
       "      <td>rs4592207</td>\n",
       "      <td>ENSG00000234396</td>\n",
       "      <td>chr1</td>\n",
       "      <td>2359358</td>\n",
       "      <td>0.001813</td>\n",
       "    </tr>\n",
       "  </tbody>\n",
       "</table>\n",
       "</div>"
      ],
      "text/plain": [
       "       snpid             gene   chr       bp      pval\n",
       "0  rs4592207            MORN1  chr1  2359358  0.001813\n",
       "1  rs4592207           FAAP20  chr1  2359358  0.001813\n",
       "2  rs4592207           ATAD3B  chr1  2359358  0.001813\n",
       "3  rs4592207     LOC100129534  chr1  2359358  0.001813\n",
       "4  rs4592207  ENSG00000234396  chr1  2359358  0.001813"
      ]
     },
     "execution_count": 79,
     "metadata": {},
     "output_type": "execute_result"
    }
   ],
   "source": [
    "#make dataframe with snpid, gene symbol, p-value\n",
    "\n",
    "x = []\n",
    "for d in snpmap_gh.as_matrix():\n",
    "    x.append(d)\n",
    "for k,v in snpmap_p.items():\n",
    "    x.append([k,v])\n",
    "for k,v in snpmap_g.items():\n",
    "    x.append([k,v])\n",
    "snp_genes = pd.DataFrame(x)\n",
    "snp_genes.columns = ['snpid','gene']\n",
    "snp_genes = snp_genes.merge(snps, how = 'inner', right_on = 'snpid', left_on = 'snpid')\n",
    "snp_genes.head() #27953 most significant snps mapped"
   ]
  },
  {
   "cell_type": "code",
   "execution_count": 85,
   "metadata": {},
   "outputs": [
    {
     "data": {
      "text/plain": [
       "8299"
      ]
     },
     "execution_count": 85,
     "metadata": {},
     "output_type": "execute_result"
    }
   ],
   "source": [
    "#only get smallest pvals within each gene\n",
    "\n",
    "def func(group):\n",
    "    return group.loc[group['pval'] == group['pval'].min()]\n",
    "\n",
    "snp_genes = snp_genes.groupby('gene', as_index=False).apply(func).reset_index(drop=True)\n",
    "\n",
    "len(snp_genes) #8299 genes mapped"
   ]
  },
  {
   "cell_type": "code",
   "execution_count": 89,
   "metadata": {},
   "outputs": [
    {
     "data": {
      "text/html": [
       "<div>\n",
       "<style scoped>\n",
       "    .dataframe tbody tr th:only-of-type {\n",
       "        vertical-align: middle;\n",
       "    }\n",
       "\n",
       "    .dataframe tbody tr th {\n",
       "        vertical-align: top;\n",
       "    }\n",
       "\n",
       "    .dataframe thead th {\n",
       "        text-align: right;\n",
       "    }\n",
       "</style>\n",
       "<table border=\"1\" class=\"dataframe\">\n",
       "  <thead>\n",
       "    <tr style=\"text-align: right;\">\n",
       "      <th></th>\n",
       "      <th>snpid</th>\n",
       "      <th>gene</th>\n",
       "      <th>chr</th>\n",
       "      <th>bp</th>\n",
       "      <th>pval</th>\n",
       "    </tr>\n",
       "  </thead>\n",
       "  <tbody>\n",
       "    <tr>\n",
       "      <th>0</th>\n",
       "      <td>rs2021722</td>\n",
       "      <td>TRIM31</td>\n",
       "      <td>chr6</td>\n",
       "      <td>30282110</td>\n",
       "      <td>4.301380e-11</td>\n",
       "    </tr>\n",
       "    <tr>\n",
       "      <th>1</th>\n",
       "      <td>rs2021722</td>\n",
       "      <td>TRIM39</td>\n",
       "      <td>chr6</td>\n",
       "      <td>30282110</td>\n",
       "      <td>4.301380e-11</td>\n",
       "    </tr>\n",
       "    <tr>\n",
       "      <th>2</th>\n",
       "      <td>rs2021722</td>\n",
       "      <td>ENSG00000233892</td>\n",
       "      <td>chr6</td>\n",
       "      <td>30282110</td>\n",
       "      <td>4.301380e-11</td>\n",
       "    </tr>\n",
       "    <tr>\n",
       "      <th>3</th>\n",
       "      <td>rs2021722</td>\n",
       "      <td>ERVK9-12</td>\n",
       "      <td>chr6</td>\n",
       "      <td>30282110</td>\n",
       "      <td>4.301380e-11</td>\n",
       "    </tr>\n",
       "    <tr>\n",
       "      <th>4</th>\n",
       "      <td>rs2021722</td>\n",
       "      <td>HCG18</td>\n",
       "      <td>chr6</td>\n",
       "      <td>30282110</td>\n",
       "      <td>4.301380e-11</td>\n",
       "    </tr>\n",
       "    <tr>\n",
       "      <th>5</th>\n",
       "      <td>rs2021722</td>\n",
       "      <td>PIR43263</td>\n",
       "      <td>chr6</td>\n",
       "      <td>30282110</td>\n",
       "      <td>4.301380e-11</td>\n",
       "    </tr>\n",
       "    <tr>\n",
       "      <th>6</th>\n",
       "      <td>rs2021722</td>\n",
       "      <td>HLA-A</td>\n",
       "      <td>chr6</td>\n",
       "      <td>30282110</td>\n",
       "      <td>4.301380e-11</td>\n",
       "    </tr>\n",
       "    <tr>\n",
       "      <th>7</th>\n",
       "      <td>rs2021722</td>\n",
       "      <td>ENSG00000237669</td>\n",
       "      <td>chr6</td>\n",
       "      <td>30282110</td>\n",
       "      <td>4.301380e-11</td>\n",
       "    </tr>\n",
       "    <tr>\n",
       "      <th>8</th>\n",
       "      <td>rs2021722</td>\n",
       "      <td>ZNRD1</td>\n",
       "      <td>chr6</td>\n",
       "      <td>30282110</td>\n",
       "      <td>4.301380e-11</td>\n",
       "    </tr>\n",
       "    <tr>\n",
       "      <th>9</th>\n",
       "      <td>rs2021722</td>\n",
       "      <td>HLA-W</td>\n",
       "      <td>chr6</td>\n",
       "      <td>30282110</td>\n",
       "      <td>4.301380e-11</td>\n",
       "    </tr>\n",
       "  </tbody>\n",
       "</table>\n",
       "</div>"
      ],
      "text/plain": [
       "       snpid             gene   chr        bp          pval\n",
       "0  rs2021722           TRIM31  chr6  30282110  4.301380e-11\n",
       "1  rs2021722           TRIM39  chr6  30282110  4.301380e-11\n",
       "2  rs2021722  ENSG00000233892  chr6  30282110  4.301380e-11\n",
       "3  rs2021722         ERVK9-12  chr6  30282110  4.301380e-11\n",
       "4  rs2021722            HCG18  chr6  30282110  4.301380e-11\n",
       "5  rs2021722         PIR43263  chr6  30282110  4.301380e-11\n",
       "6  rs2021722            HLA-A  chr6  30282110  4.301380e-11\n",
       "7  rs2021722  ENSG00000237669  chr6  30282110  4.301380e-11\n",
       "8  rs2021722            ZNRD1  chr6  30282110  4.301380e-11\n",
       "9  rs2021722            HLA-W  chr6  30282110  4.301380e-11"
      ]
     },
     "execution_count": 89,
     "metadata": {},
     "output_type": "execute_result"
    }
   ],
   "source": [
    "#sort list by p-value\n",
    "\n",
    "snp_genes = snp_genes.sort_values(by = 'pval').reset_index(drop = True)\n",
    "snp_genes.iloc[0:10,:]"
   ]
  },
  {
   "cell_type": "code",
   "execution_count": 91,
   "metadata": {},
   "outputs": [],
   "source": [
    "#export to csv\n",
    "\n",
    "snp_genes.to_csv('snps_genehancer_list.csv')"
   ]
  },
  {
   "cell_type": "code",
   "execution_count": null,
   "metadata": {},
   "outputs": [],
   "source": []
  }
 ],
 "metadata": {
  "kernelspec": {
   "display_name": "Python 3",
   "language": "python",
   "name": "python3"
  },
  "language_info": {
   "codemirror_mode": {
    "name": "ipython",
    "version": 3
   },
   "file_extension": ".py",
   "mimetype": "text/x-python",
   "name": "python",
   "nbconvert_exporter": "python",
   "pygments_lexer": "ipython3",
   "version": "3.6.4"
  }
 },
 "nbformat": 4,
 "nbformat_minor": 2
}
