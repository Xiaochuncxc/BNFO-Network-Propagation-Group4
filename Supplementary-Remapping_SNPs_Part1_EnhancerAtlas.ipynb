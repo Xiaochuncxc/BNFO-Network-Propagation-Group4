{
 "cells": [
  {
   "cell_type": "markdown",
   "metadata": {},
   "source": [
    "# Part I\n",
    "\n",
    "# Remapping SNPs in promoters, genes and enhancers (EnhancerAtlas)\n",
    "\n",
    "For promoters, I will associate the center of the ENSEMBL curated promoters within 2500 base pairs of the TSS (Gao 2016)\n",
    "\n",
    "For enhancers, I will remap using two sets of databases:\n",
    "\n",
    "EnhancerAtlas (Thymus, Fetal Spinal Cord, and Astrocyte) (Gao et al, Bioinformatics 2016)\n",
    "\n",
    "Genehancer (Predicted using HiC data and curated data) (Fishelevich et al, Database 2017)\n",
    "\n",
    "In each case, the most significant SNP will be assigned to the gene"
   ]
  },
  {
   "cell_type": "code",
   "execution_count": 1,
   "metadata": {},
   "outputs": [],
   "source": [
    "import pandas as pd\n",
    "import mygene"
   ]
  },
  {
   "cell_type": "code",
   "execution_count": 25,
   "metadata": {},
   "outputs": [
    {
     "data": {
      "text/html": [
       "<div>\n",
       "<style scoped>\n",
       "    .dataframe tbody tr th:only-of-type {\n",
       "        vertical-align: middle;\n",
       "    }\n",
       "\n",
       "    .dataframe tbody tr th {\n",
       "        vertical-align: top;\n",
       "    }\n",
       "\n",
       "    .dataframe thead th {\n",
       "        text-align: right;\n",
       "    }\n",
       "</style>\n",
       "<table border=\"1\" class=\"dataframe\">\n",
       "  <thead>\n",
       "    <tr style=\"text-align: right;\">\n",
       "      <th></th>\n",
       "      <th>snpid</th>\n",
       "      <th>chr</th>\n",
       "      <th>bp</th>\n",
       "      <th>pval</th>\n",
       "    </tr>\n",
       "  </thead>\n",
       "  <tbody>\n",
       "    <tr>\n",
       "      <th>0</th>\n",
       "      <td>rs3131972</td>\n",
       "      <td>1</td>\n",
       "      <td>742584</td>\n",
       "      <td>0.761033</td>\n",
       "    </tr>\n",
       "    <tr>\n",
       "      <th>1</th>\n",
       "      <td>rs3131969</td>\n",
       "      <td>1</td>\n",
       "      <td>744045</td>\n",
       "      <td>0.784919</td>\n",
       "    </tr>\n",
       "    <tr>\n",
       "      <th>2</th>\n",
       "      <td>rs3131967</td>\n",
       "      <td>1</td>\n",
       "      <td>744197</td>\n",
       "      <td>0.793520</td>\n",
       "    </tr>\n",
       "    <tr>\n",
       "      <th>3</th>\n",
       "      <td>rs1048488</td>\n",
       "      <td>1</td>\n",
       "      <td>750775</td>\n",
       "      <td>0.761041</td>\n",
       "    </tr>\n",
       "    <tr>\n",
       "      <th>4</th>\n",
       "      <td>rs12562034</td>\n",
       "      <td>1</td>\n",
       "      <td>758311</td>\n",
       "      <td>0.987899</td>\n",
       "    </tr>\n",
       "  </tbody>\n",
       "</table>\n",
       "</div>"
      ],
      "text/plain": [
       "        snpid  chr      bp      pval\n",
       "0   rs3131972    1  742584  0.761033\n",
       "1   rs3131969    1  744045  0.784919\n",
       "2   rs3131967    1  744197  0.793520\n",
       "3   rs1048488    1  750775  0.761041\n",
       "4  rs12562034    1  758311  0.987899"
      ]
     },
     "execution_count": 25,
     "metadata": {},
     "output_type": "execute_result"
    }
   ],
   "source": [
    "snps = pd.read_csv('C:\\\\Users\\\\magne\\\\Documents\\\\Classes\\\\BNFO286\\\\final_project\\\\snp_level_summary_stats_pmid_25056061.txt', sep = '\\t', skiprows = 1, header = None)\n",
    "snps.columns = ['snpid','chr','bp','a1','a2','or','se','pval','info','ngt','CEUaf']\n",
    "snps = snps.loc[:,['snpid','chr','bp','pval']]\n",
    "snps.head()"
   ]
  },
  {
   "cell_type": "code",
   "execution_count": 26,
   "metadata": {},
   "outputs": [
    {
     "data": {
      "text/html": [
       "<div>\n",
       "<style scoped>\n",
       "    .dataframe tbody tr th:only-of-type {\n",
       "        vertical-align: middle;\n",
       "    }\n",
       "\n",
       "    .dataframe tbody tr th {\n",
       "        vertical-align: top;\n",
       "    }\n",
       "\n",
       "    .dataframe thead th {\n",
       "        text-align: right;\n",
       "    }\n",
       "</style>\n",
       "<table border=\"1\" class=\"dataframe\">\n",
       "  <thead>\n",
       "    <tr style=\"text-align: right;\">\n",
       "      <th></th>\n",
       "      <th>snpid</th>\n",
       "      <th>chr</th>\n",
       "      <th>bp</th>\n",
       "      <th>pval</th>\n",
       "    </tr>\n",
       "  </thead>\n",
       "  <tbody>\n",
       "    <tr>\n",
       "      <th>0</th>\n",
       "      <td>rs3131972</td>\n",
       "      <td>chr1</td>\n",
       "      <td>742584</td>\n",
       "      <td>0.761033</td>\n",
       "    </tr>\n",
       "    <tr>\n",
       "      <th>1</th>\n",
       "      <td>rs3131969</td>\n",
       "      <td>chr1</td>\n",
       "      <td>744045</td>\n",
       "      <td>0.784919</td>\n",
       "    </tr>\n",
       "    <tr>\n",
       "      <th>2</th>\n",
       "      <td>rs3131967</td>\n",
       "      <td>chr1</td>\n",
       "      <td>744197</td>\n",
       "      <td>0.793520</td>\n",
       "    </tr>\n",
       "    <tr>\n",
       "      <th>3</th>\n",
       "      <td>rs1048488</td>\n",
       "      <td>chr1</td>\n",
       "      <td>750775</td>\n",
       "      <td>0.761041</td>\n",
       "    </tr>\n",
       "    <tr>\n",
       "      <th>4</th>\n",
       "      <td>rs12562034</td>\n",
       "      <td>chr1</td>\n",
       "      <td>758311</td>\n",
       "      <td>0.987899</td>\n",
       "    </tr>\n",
       "  </tbody>\n",
       "</table>\n",
       "</div>"
      ],
      "text/plain": [
       "        snpid   chr      bp      pval\n",
       "0   rs3131972  chr1  742584  0.761033\n",
       "1   rs3131969  chr1  744045  0.784919\n",
       "2   rs3131967  chr1  744197  0.793520\n",
       "3   rs1048488  chr1  750775  0.761041\n",
       "4  rs12562034  chr1  758311  0.987899"
      ]
     },
     "execution_count": 26,
     "metadata": {},
     "output_type": "execute_result"
    }
   ],
   "source": [
    "x = []\n",
    "for d in snps.loc[:,'chr']:\n",
    "    x.append('chr'+str(d))\n",
    "snps['chr'] = pd.DataFrame(x)\n",
    "snps.head()"
   ]
  },
  {
   "cell_type": "code",
   "execution_count": 27,
   "metadata": {},
   "outputs": [],
   "source": [
    "#I decided to choose the top 18,000 SNPS for remapping, which corresponds to a p-value of less than 0.005\n",
    "\n",
    "snps = snps.loc[snps['pval']<0.005]\n",
    "\n",
    "#Next make BED file to convert genomic positions via liftover (UCSC) from hg18 to hg38"
   ]
  },
  {
   "cell_type": "code",
   "execution_count": 120,
   "metadata": {},
   "outputs": [
    {
     "data": {
      "text/html": [
       "<div>\n",
       "<style scoped>\n",
       "    .dataframe tbody tr th:only-of-type {\n",
       "        vertical-align: middle;\n",
       "    }\n",
       "\n",
       "    .dataframe tbody tr th {\n",
       "        vertical-align: top;\n",
       "    }\n",
       "\n",
       "    .dataframe thead th {\n",
       "        text-align: right;\n",
       "    }\n",
       "</style>\n",
       "<table border=\"1\" class=\"dataframe\">\n",
       "  <thead>\n",
       "    <tr style=\"text-align: right;\">\n",
       "      <th></th>\n",
       "      <th>chrom</th>\n",
       "      <th>chromStart</th>\n",
       "      <th>chromEnd</th>\n",
       "      <th>name</th>\n",
       "      <th>score</th>\n",
       "    </tr>\n",
       "  </thead>\n",
       "  <tbody>\n",
       "    <tr>\n",
       "      <th>0</th>\n",
       "      <td>chr1</td>\n",
       "      <td>1217760</td>\n",
       "      <td>1217761</td>\n",
       "      <td>rs3737721</td>\n",
       "      <td>0.004550</td>\n",
       "    </tr>\n",
       "    <tr>\n",
       "      <th>1</th>\n",
       "      <td>chr1</td>\n",
       "      <td>2359358</td>\n",
       "      <td>2359359</td>\n",
       "      <td>rs4592207</td>\n",
       "      <td>0.001813</td>\n",
       "    </tr>\n",
       "    <tr>\n",
       "      <th>2</th>\n",
       "      <td>chr1</td>\n",
       "      <td>2380448</td>\n",
       "      <td>2380449</td>\n",
       "      <td>rs10910078</td>\n",
       "      <td>0.002838</td>\n",
       "    </tr>\n",
       "    <tr>\n",
       "      <th>3</th>\n",
       "      <td>chr1</td>\n",
       "      <td>2518200</td>\n",
       "      <td>2518201</td>\n",
       "      <td>rs12133956</td>\n",
       "      <td>0.003047</td>\n",
       "    </tr>\n",
       "    <tr>\n",
       "      <th>4</th>\n",
       "      <td>chr1</td>\n",
       "      <td>3121095</td>\n",
       "      <td>3121096</td>\n",
       "      <td>rs10909901</td>\n",
       "      <td>0.002338</td>\n",
       "    </tr>\n",
       "  </tbody>\n",
       "</table>\n",
       "</div>"
      ],
      "text/plain": [
       "  chrom  chromStart  chromEnd        name     score\n",
       "0  chr1     1217760   1217761   rs3737721  0.004550\n",
       "1  chr1     2359358   2359359   rs4592207  0.001813\n",
       "2  chr1     2380448   2380449  rs10910078  0.002838\n",
       "3  chr1     2518200   2518201  rs12133956  0.003047\n",
       "4  chr1     3121095   3121096  rs10909901  0.002338"
      ]
     },
     "execution_count": 120,
     "metadata": {},
     "output_type": "execute_result"
    }
   ],
   "source": [
    "snps_BED = snps\n",
    "snps_BED = snps_BED.reset_index(drop=True)\n",
    "x = []\n",
    "for d in snps_BED.as_matrix():\n",
    "    x.append(d[2]+1)\n",
    "snps_BED['start'] = snps_BED['bp']\n",
    "snps_BED['end'] = pd.DataFrame(x)\n",
    "snps_BED = snps_BED.loc[:,['chr','start','end','snpid','pval']]\n",
    "snps_BED.columns = ['chrom','chromStart','chromEnd','name','score']\n",
    "snps_BED.to_csv('snps_BED.bed', sep = '\\t', index = False, header = False)\n",
    "\n",
    "snps_BED.head()"
   ]
  },
  {
   "cell_type": "code",
   "execution_count": 5,
   "metadata": {},
   "outputs": [
    {
     "data": {
      "text/html": [
       "<div>\n",
       "<style scoped>\n",
       "    .dataframe tbody tr th:only-of-type {\n",
       "        vertical-align: middle;\n",
       "    }\n",
       "\n",
       "    .dataframe tbody tr th {\n",
       "        vertical-align: top;\n",
       "    }\n",
       "\n",
       "    .dataframe thead th {\n",
       "        text-align: right;\n",
       "    }\n",
       "</style>\n",
       "<table border=\"1\" class=\"dataframe\">\n",
       "  <thead>\n",
       "    <tr style=\"text-align: right;\">\n",
       "      <th></th>\n",
       "      <th>chr</th>\n",
       "      <th>start</th>\n",
       "      <th>end</th>\n",
       "      <th>ensembl</th>\n",
       "    </tr>\n",
       "  </thead>\n",
       "  <tbody>\n",
       "    <tr>\n",
       "      <th>0</th>\n",
       "      <td>chrY</td>\n",
       "      <td>9991120</td>\n",
       "      <td>9996720</td>\n",
       "      <td>ENST00000515896</td>\n",
       "    </tr>\n",
       "    <tr>\n",
       "      <th>1</th>\n",
       "      <td>chrY</td>\n",
       "      <td>10011330</td>\n",
       "      <td>10030810</td>\n",
       "      <td>ENST00000515896</td>\n",
       "    </tr>\n",
       "    <tr>\n",
       "      <th>2</th>\n",
       "      <td>chrY</td>\n",
       "      <td>10030830</td>\n",
       "      <td>10041420</td>\n",
       "      <td>ENST00000515896</td>\n",
       "    </tr>\n",
       "    <tr>\n",
       "      <th>3</th>\n",
       "      <td>chrX</td>\n",
       "      <td>1763970</td>\n",
       "      <td>1782250</td>\n",
       "      <td>ENST00000381192</td>\n",
       "    </tr>\n",
       "    <tr>\n",
       "      <th>4</th>\n",
       "      <td>chrX</td>\n",
       "      <td>1763970</td>\n",
       "      <td>1782250</td>\n",
       "      <td>ENST00000381401</td>\n",
       "    </tr>\n",
       "  </tbody>\n",
       "</table>\n",
       "</div>"
      ],
      "text/plain": [
       "    chr     start       end          ensembl\n",
       "0  chrY   9991120   9996720  ENST00000515896\n",
       "1  chrY  10011330  10030810  ENST00000515896\n",
       "2  chrY  10030830  10041420  ENST00000515896\n",
       "3  chrX   1763970   1782250  ENST00000381192\n",
       "4  chrX   1763970   1782250  ENST00000381401"
      ]
     },
     "execution_count": 5,
     "metadata": {},
     "output_type": "execute_result"
    }
   ],
   "source": [
    "#First we are going to assign gene symbols to the astrocyte enhancers \n",
    "\n",
    "enh_astrocyte = pd.read_csv('C:\\\\Users\\\\magne\\\\Documents\\\\Classes\\\\BNFO286\\\\final_project\\\\Astrocyte_EP.txt', sep = '\\t', header = None)\n",
    "enh_astrocyte = enh_astrocyte.iloc[:,[0,1,2,6]]\n",
    "enh_astrocyte.columns = ['chr','start','end','ensembl']\n",
    "enh_astrocyte.head()"
   ]
  },
  {
   "cell_type": "code",
   "execution_count": null,
   "metadata": {},
   "outputs": [],
   "source": [
    "mg = mygene.MyGeneInfo()\n",
    "geneList = enh_astrocyte.loc[:,'ensembl']\n",
    "geneSyms = mg.querymany(geneList , scopes='ensembl.transcript', fields='symbol', species='human', as_dataframe = True)"
   ]
  },
  {
   "cell_type": "code",
   "execution_count": 7,
   "metadata": {},
   "outputs": [
    {
     "data": {
      "text/plain": [
       "50964"
      ]
     },
     "execution_count": 7,
     "metadata": {},
     "output_type": "execute_result"
    }
   ],
   "source": [
    "sym = geneSyms\n",
    "sym['ensembl'] = sym.index\n",
    "sym = sym.loc[:,['symbol','ensembl']]\n",
    "len(sym)"
   ]
  },
  {
   "cell_type": "code",
   "execution_count": 8,
   "metadata": {},
   "outputs": [
    {
     "data": {
      "text/html": [
       "<div>\n",
       "<style scoped>\n",
       "    .dataframe tbody tr th:only-of-type {\n",
       "        vertical-align: middle;\n",
       "    }\n",
       "\n",
       "    .dataframe tbody tr th {\n",
       "        vertical-align: top;\n",
       "    }\n",
       "\n",
       "    .dataframe thead th {\n",
       "        text-align: right;\n",
       "    }\n",
       "</style>\n",
       "<table border=\"1\" class=\"dataframe\">\n",
       "  <thead>\n",
       "    <tr style=\"text-align: right;\">\n",
       "      <th></th>\n",
       "      <th>symbol</th>\n",
       "      <th>ensembl</th>\n",
       "    </tr>\n",
       "    <tr>\n",
       "      <th>query</th>\n",
       "      <th></th>\n",
       "      <th></th>\n",
       "    </tr>\n",
       "  </thead>\n",
       "  <tbody>\n",
       "    <tr>\n",
       "      <th>ENST00000515896</th>\n",
       "      <td>RNA5-8SP6</td>\n",
       "      <td>ENST00000515896</td>\n",
       "    </tr>\n",
       "    <tr>\n",
       "      <th>ENST00000515896</th>\n",
       "      <td>RNA5-8SP6</td>\n",
       "      <td>ENST00000515896</td>\n",
       "    </tr>\n",
       "    <tr>\n",
       "      <th>ENST00000515896</th>\n",
       "      <td>RNA5-8SP6</td>\n",
       "      <td>ENST00000515896</td>\n",
       "    </tr>\n",
       "    <tr>\n",
       "      <th>ENST00000381192</th>\n",
       "      <td>CD99</td>\n",
       "      <td>ENST00000381192</td>\n",
       "    </tr>\n",
       "    <tr>\n",
       "      <th>ENST00000381401</th>\n",
       "      <td>SLC25A6</td>\n",
       "      <td>ENST00000381401</td>\n",
       "    </tr>\n",
       "  </tbody>\n",
       "</table>\n",
       "</div>"
      ],
      "text/plain": [
       "                    symbol          ensembl\n",
       "query                                      \n",
       "ENST00000515896  RNA5-8SP6  ENST00000515896\n",
       "ENST00000515896  RNA5-8SP6  ENST00000515896\n",
       "ENST00000515896  RNA5-8SP6  ENST00000515896\n",
       "ENST00000381192       CD99  ENST00000381192\n",
       "ENST00000381401    SLC25A6  ENST00000381401"
      ]
     },
     "execution_count": 8,
     "metadata": {},
     "output_type": "execute_result"
    }
   ],
   "source": [
    "sym.head()"
   ]
  },
  {
   "cell_type": "code",
   "execution_count": 9,
   "metadata": {},
   "outputs": [
    {
     "data": {
      "text/html": [
       "<div>\n",
       "<style scoped>\n",
       "    .dataframe tbody tr th:only-of-type {\n",
       "        vertical-align: middle;\n",
       "    }\n",
       "\n",
       "    .dataframe tbody tr th {\n",
       "        vertical-align: top;\n",
       "    }\n",
       "\n",
       "    .dataframe thead th {\n",
       "        text-align: right;\n",
       "    }\n",
       "</style>\n",
       "<table border=\"1\" class=\"dataframe\">\n",
       "  <thead>\n",
       "    <tr style=\"text-align: right;\">\n",
       "      <th></th>\n",
       "      <th>chr</th>\n",
       "      <th>start</th>\n",
       "      <th>end</th>\n",
       "      <th>ensembl</th>\n",
       "      <th>symbol</th>\n",
       "    </tr>\n",
       "  </thead>\n",
       "  <tbody>\n",
       "    <tr>\n",
       "      <th>0</th>\n",
       "      <td>chrY</td>\n",
       "      <td>9991120</td>\n",
       "      <td>9996720</td>\n",
       "      <td>ENST00000515896</td>\n",
       "      <td>RNA5-8SP6</td>\n",
       "    </tr>\n",
       "    <tr>\n",
       "      <th>3</th>\n",
       "      <td>chrY</td>\n",
       "      <td>10011330</td>\n",
       "      <td>10030810</td>\n",
       "      <td>ENST00000515896</td>\n",
       "      <td>RNA5-8SP6</td>\n",
       "    </tr>\n",
       "    <tr>\n",
       "      <th>6</th>\n",
       "      <td>chrY</td>\n",
       "      <td>10030830</td>\n",
       "      <td>10041420</td>\n",
       "      <td>ENST00000515896</td>\n",
       "      <td>RNA5-8SP6</td>\n",
       "    </tr>\n",
       "    <tr>\n",
       "      <th>9</th>\n",
       "      <td>chrX</td>\n",
       "      <td>1763970</td>\n",
       "      <td>1782250</td>\n",
       "      <td>ENST00000381192</td>\n",
       "      <td>CD99</td>\n",
       "    </tr>\n",
       "    <tr>\n",
       "      <th>17</th>\n",
       "      <td>chrX</td>\n",
       "      <td>2254050</td>\n",
       "      <td>2296900</td>\n",
       "      <td>ENST00000381192</td>\n",
       "      <td>CD99</td>\n",
       "    </tr>\n",
       "  </tbody>\n",
       "</table>\n",
       "</div>"
      ],
      "text/plain": [
       "     chr     start       end          ensembl     symbol\n",
       "0   chrY   9991120   9996720  ENST00000515896  RNA5-8SP6\n",
       "3   chrY  10011330  10030810  ENST00000515896  RNA5-8SP6\n",
       "6   chrY  10030830  10041420  ENST00000515896  RNA5-8SP6\n",
       "9   chrX   1763970   1782250  ENST00000381192       CD99\n",
       "17  chrX   2254050   2296900  ENST00000381192       CD99"
      ]
     },
     "execution_count": 9,
     "metadata": {},
     "output_type": "execute_result"
    }
   ],
   "source": [
    "enh_astrocyte = enh_astrocyte.merge(sym, how = 'inner', right_on = 'ensembl', left_on = 'ensembl')\n",
    "enh_astrocyte = enh_astrocyte.drop_duplicates()\n",
    "enh_astrocyte.head()"
   ]
  },
  {
   "cell_type": "code",
   "execution_count": null,
   "metadata": {},
   "outputs": [],
   "source": [
    "#now we are going to do the same for the fetal spinal cord enhancers\n",
    "\n",
    "enh_fetalsc = pd.read_csv('C:\\\\Users\\\\magne\\\\Documents\\\\Classes\\\\BNFO286\\\\final_project\\\\Fetal_spinal_cord_EP.txt', sep = '\\t', header = None)\n",
    "enh_fetalsc = enh_fetalsc.iloc[:,[0,1,2,6]]\n",
    "enh_fetalsc.columns = ['chr','start','end','ensembl']\n",
    "mg = mygene.MyGeneInfo()\n",
    "geneList = enh_fetalsc.loc[:,'ensembl']\n",
    "geneSyms = mg.querymany(geneList , scopes='ensembl.transcript', fields='symbol', species='human', as_dataframe = True)\n",
    "sym = geneSyms\n",
    "sym['ensembl'] = sym.index\n",
    "sym = sym.loc[:,['symbol','ensembl']]\n",
    "enh_fetalsc = enh_fetalsc.merge(sym, how = 'inner', right_on = 'ensembl', left_on = 'ensembl')\n",
    "enh_fetalsc = enh_fetalsc.drop_duplicates()\n",
    "enh_fetalsc.head()"
   ]
  },
  {
   "cell_type": "code",
   "execution_count": null,
   "metadata": {},
   "outputs": [],
   "source": [
    "#now we are going to do the same for the thymus enhancers\n",
    "\n",
    "enh_thymus = pd.read_csv('C:\\\\Users\\\\magne\\\\Documents\\\\Classes\\\\BNFO286\\\\final_project\\\\Thymus_EP.txt', sep = '\\t', header = None)\n",
    "enh_thymus = enh_thymus.iloc[:,[0,1,2,6]]\n",
    "enh_thymus.columns = ['chr','start','end','ensembl']\n",
    "mg = mygene.MyGeneInfo()\n",
    "geneList = enh_thymus.loc[:,'ensembl']\n",
    "geneSyms = mg.querymany(geneList , scopes='ensembl.transcript', fields='symbol', species='human', as_dataframe = True)\n",
    "sym = geneSyms\n",
    "sym['ensembl'] = sym.index\n",
    "sym = sym.loc[:,['symbol','ensembl']]\n",
    "enh_thymus = enh_thymus.merge(sym, how = 'inner', right_on = 'ensembl', left_on = 'ensembl')\n",
    "enh_thymus = enh_thymus.drop_duplicates()\n",
    "enh_thymus.head()"
   ]
  },
  {
   "cell_type": "code",
   "execution_count": 12,
   "metadata": {},
   "outputs": [
    {
     "data": {
      "text/plain": [
       "98447"
      ]
     },
     "execution_count": 12,
     "metadata": {},
     "output_type": "execute_result"
    }
   ],
   "source": [
    "#concatenate all enhancers\n",
    "\n",
    "enh_EA = pd.concat([enh_thymus, enh_fetalsc, enh_astrocyte])\n",
    "enh_EA = enh_EA.iloc[:,[0,1,2,4]]\n",
    "len(enh_EA)"
   ]
  },
  {
   "cell_type": "code",
   "execution_count": 125,
   "metadata": {},
   "outputs": [
    {
     "data": {
      "text/html": [
       "<div>\n",
       "<style scoped>\n",
       "    .dataframe tbody tr th:only-of-type {\n",
       "        vertical-align: middle;\n",
       "    }\n",
       "\n",
       "    .dataframe tbody tr th {\n",
       "        vertical-align: top;\n",
       "    }\n",
       "\n",
       "    .dataframe thead th {\n",
       "        text-align: right;\n",
       "    }\n",
       "</style>\n",
       "<table border=\"1\" class=\"dataframe\">\n",
       "  <thead>\n",
       "    <tr style=\"text-align: right;\">\n",
       "      <th></th>\n",
       "      <th>chr</th>\n",
       "      <th>start</th>\n",
       "      <th>end</th>\n",
       "      <th>symbol</th>\n",
       "    </tr>\n",
       "  </thead>\n",
       "  <tbody>\n",
       "    <tr>\n",
       "      <th>0</th>\n",
       "      <td>chrX</td>\n",
       "      <td>317820</td>\n",
       "      <td>319010</td>\n",
       "      <td>GTPBP6</td>\n",
       "    </tr>\n",
       "    <tr>\n",
       "      <th>3</th>\n",
       "      <td>chrX</td>\n",
       "      <td>330310</td>\n",
       "      <td>332820</td>\n",
       "      <td>GTPBP6</td>\n",
       "    </tr>\n",
       "    <tr>\n",
       "      <th>6</th>\n",
       "      <td>chrX</td>\n",
       "      <td>346250</td>\n",
       "      <td>346800</td>\n",
       "      <td>GTPBP6</td>\n",
       "    </tr>\n",
       "    <tr>\n",
       "      <th>9</th>\n",
       "      <td>chrX</td>\n",
       "      <td>317820</td>\n",
       "      <td>319010</td>\n",
       "      <td>PPP2R3B</td>\n",
       "    </tr>\n",
       "    <tr>\n",
       "      <th>10</th>\n",
       "      <td>chrX</td>\n",
       "      <td>330310</td>\n",
       "      <td>332820</td>\n",
       "      <td>GTPBP6</td>\n",
       "    </tr>\n",
       "  </tbody>\n",
       "</table>\n",
       "</div>"
      ],
      "text/plain": [
       "     chr   start     end   symbol\n",
       "0   chrX  317820  319010   GTPBP6\n",
       "3   chrX  330310  332820   GTPBP6\n",
       "6   chrX  346250  346800   GTPBP6\n",
       "9   chrX  317820  319010  PPP2R3B\n",
       "10  chrX  330310  332820   GTPBP6"
      ]
     },
     "execution_count": 125,
     "metadata": {},
     "output_type": "execute_result"
    }
   ],
   "source": [
    "#export to BED file for conversion to hg38\n",
    "\n",
    "enh_EA.to_csv('enh_BED.BED', sep = '\\t', index = False, header = False)\n",
    "enh_EA.head()"
   ]
  },
  {
   "cell_type": "code",
   "execution_count": 10,
   "metadata": {},
   "outputs": [],
   "source": [
    "enh_mat = pd.read_csv('C:\\\\Users\\\\magne\\\\Documents\\\\Classes\\\\BNFO286\\\\final_project\\\\hglft_genome_enh_38.BED', header = None, sep = '\\t')\n",
    "enh_mat = enh_mat.as_matrix() #from hg19 to hg38\n",
    "snp_mat = pd.read_csv('C:\\\\Users\\\\magne\\\\Documents\\\\Classes\\\\BNFO286\\\\final_project\\\\hglft_genome_snps_38.BED', header = None, sep = '\\t')\n",
    "snp_mat = snp_mat.as_matrix() #from hg18 to hg38\n",
    "\n",
    "snpmap = {d[3]:f[3] for d in snp_mat for f in enh_mat if f[0] == d[0] and d[1] >= f[1] and d[1] <= f[2]}"
   ]
  },
  {
   "cell_type": "code",
   "execution_count": 155,
   "metadata": {},
   "outputs": [
    {
     "data": {
      "text/plain": [
       "2361"
      ]
     },
     "execution_count": 155,
     "metadata": {},
     "output_type": "execute_result"
    }
   ],
   "source": [
    "len(snpmap)#We were able to map 2361 enhancers using this method"
   ]
  },
  {
   "cell_type": "code",
   "execution_count": 156,
   "metadata": {},
   "outputs": [],
   "source": [
    "import pickle\n",
    "\n",
    "def save_object(obj, filename):\n",
    "    with open(filename, 'wb') as output:  # Overwrites any existing file.\n",
    "        pickle.dump(obj, output, pickle.HIGHEST_PROTOCOL)\n",
    "\n",
    "save_object(snpmap, 'snmmap_enhancer_atlas.pkl')"
   ]
  },
  {
   "cell_type": "code",
   "execution_count": 21,
   "metadata": {},
   "outputs": [],
   "source": [
    "import pickle\n",
    "\n",
    "with open('snmmap_enhancer_atlas.pkl', 'rb') as input:\n",
    "    snpmap = pickle.load(input)"
   ]
  },
  {
   "cell_type": "code",
   "execution_count": 34,
   "metadata": {},
   "outputs": [
    {
     "data": {
      "text/html": [
       "<div>\n",
       "<style scoped>\n",
       "    .dataframe tbody tr th:only-of-type {\n",
       "        vertical-align: middle;\n",
       "    }\n",
       "\n",
       "    .dataframe tbody tr th {\n",
       "        vertical-align: top;\n",
       "    }\n",
       "\n",
       "    .dataframe thead th {\n",
       "        text-align: right;\n",
       "    }\n",
       "</style>\n",
       "<table border=\"1\" class=\"dataframe\">\n",
       "  <thead>\n",
       "    <tr style=\"text-align: right;\">\n",
       "      <th></th>\n",
       "      <th>Chr</th>\n",
       "      <th>Gene Start</th>\n",
       "      <th>Gene End</th>\n",
       "      <th>Gene</th>\n",
       "    </tr>\n",
       "  </thead>\n",
       "  <tbody>\n",
       "    <tr>\n",
       "      <th>0</th>\n",
       "      <td>chr6</td>\n",
       "      <td>27906930</td>\n",
       "      <td>27907284</td>\n",
       "      <td>HIST1H4K</td>\n",
       "    </tr>\n",
       "    <tr>\n",
       "      <th>1</th>\n",
       "      <td>chr6</td>\n",
       "      <td>27913636</td>\n",
       "      <td>27914096</td>\n",
       "      <td>HIST1H2AK</td>\n",
       "    </tr>\n",
       "    <tr>\n",
       "      <th>2</th>\n",
       "      <td>chr6</td>\n",
       "      <td>27914418</td>\n",
       "      <td>27914867</td>\n",
       "      <td>HIST1H2BN</td>\n",
       "    </tr>\n",
       "    <tr>\n",
       "      <th>3</th>\n",
       "      <td>chr6</td>\n",
       "      <td>27941085</td>\n",
       "      <td>27941555</td>\n",
       "      <td>HIST1H2AL</td>\n",
       "    </tr>\n",
       "    <tr>\n",
       "      <th>4</th>\n",
       "      <td>chr6</td>\n",
       "      <td>27942548</td>\n",
       "      <td>27943338</td>\n",
       "      <td>HIST1H1B</td>\n",
       "    </tr>\n",
       "  </tbody>\n",
       "</table>\n",
       "</div>"
      ],
      "text/plain": [
       "    Chr  Gene Start  Gene End       Gene\n",
       "0  chr6    27906930  27907284   HIST1H4K\n",
       "1  chr6    27913636  27914096  HIST1H2AK\n",
       "2  chr6    27914418  27914867  HIST1H2BN\n",
       "3  chr6    27941085  27941555  HIST1H2AL\n",
       "4  chr6    27942548  27943338   HIST1H1B"
      ]
     },
     "execution_count": 34,
     "metadata": {},
     "output_type": "execute_result"
    }
   ],
   "source": [
    "#convert gene positions to hg38 from hg18\n",
    "\n",
    "genes = pd.read_csv('C:\\\\Users\\\\magne\\\\Documents\\\\Classes\\\\BNFO286\\\\final_project\\\\gene_level_summary_stats_pmid_25056061.txt', sep = '\\t')\n",
    "genes = genes.iloc[:,1:5]\n",
    "x = []\n",
    "for d in genes.loc[:,'Chr']:\n",
    "    x.append('chr'+str(d))\n",
    "genes['Chr'] = pd.DataFrame(x)\n",
    "genes = genes.iloc[:,[1,2,3,0]]\n",
    "genes.to_csv('genes_BED.BED', sep = '\\t', index = False, header = False)\n",
    "genes.head()"
   ]
  },
  {
   "cell_type": "code",
   "execution_count": 192,
   "metadata": {},
   "outputs": [
    {
     "data": {
      "text/html": [
       "<div>\n",
       "<style scoped>\n",
       "    .dataframe tbody tr th:only-of-type {\n",
       "        vertical-align: middle;\n",
       "    }\n",
       "\n",
       "    .dataframe tbody tr th {\n",
       "        vertical-align: top;\n",
       "    }\n",
       "\n",
       "    .dataframe thead th {\n",
       "        text-align: right;\n",
       "    }\n",
       "</style>\n",
       "<table border=\"1\" class=\"dataframe\">\n",
       "  <thead>\n",
       "    <tr style=\"text-align: right;\">\n",
       "      <th></th>\n",
       "      <th>0</th>\n",
       "      <th>1</th>\n",
       "      <th>2</th>\n",
       "      <th>4</th>\n",
       "    </tr>\n",
       "  </thead>\n",
       "  <tbody>\n",
       "    <tr>\n",
       "      <th>0</th>\n",
       "      <td>chr19</td>\n",
       "      <td>50432773</td>\n",
       "      <td>50432774</td>\n",
       "      <td>NUP62</td>\n",
       "    </tr>\n",
       "    <tr>\n",
       "      <th>1</th>\n",
       "      <td>chr13</td>\n",
       "      <td>45563613</td>\n",
       "      <td>45563614</td>\n",
       "      <td>NUFIP1</td>\n",
       "    </tr>\n",
       "    <tr>\n",
       "      <th>2</th>\n",
       "      <td>chr1</td>\n",
       "      <td>36081</td>\n",
       "      <td>36082</td>\n",
       "      <td>FAM138A</td>\n",
       "    </tr>\n",
       "    <tr>\n",
       "      <th>3</th>\n",
       "      <td>chr14</td>\n",
       "      <td>74353317</td>\n",
       "      <td>74353318</td>\n",
       "      <td>ZNF410</td>\n",
       "    </tr>\n",
       "    <tr>\n",
       "      <th>4</th>\n",
       "      <td>chr15</td>\n",
       "      <td>88799962</td>\n",
       "      <td>88799963</td>\n",
       "      <td>NTRK3</td>\n",
       "    </tr>\n",
       "  </tbody>\n",
       "</table>\n",
       "</div>"
      ],
      "text/plain": [
       "       0         1         2        4\n",
       "0  chr19  50432773  50432774    NUP62\n",
       "1  chr13  45563613  45563614   NUFIP1\n",
       "2   chr1     36081     36082  FAM138A\n",
       "3  chr14  74353317  74353318   ZNF410\n",
       "4  chr15  88799962  88799963    NTRK3"
      ]
     },
     "execution_count": 192,
     "metadata": {},
     "output_type": "execute_result"
    }
   ],
   "source": [
    "#get TSS's\n",
    "\n",
    "tss = pd.read_csv('refGene_hg19_TSS.BED', sep = '\\t', header = None)\n",
    "tss = tss.iloc[:,[0,1,2,4]]\n",
    "x = []\n",
    "for d in tss.as_matrix():\n",
    "    x.append(d[1]+1)\n",
    "tss[2]=x\n",
    "tss.to_csv('tss_BED.BED',sep='\\t',header = False,index = False)\n",
    "tss.head()"
   ]
  },
  {
   "cell_type": "code",
   "execution_count": 2,
   "metadata": {},
   "outputs": [],
   "source": [
    "#promoters from ENSEMBL, tss from ENSEMBL\n",
    "\n",
    "promoters = pd.read_csv('promoters_biomart.txt', sep = '\\t')\n",
    "x = []\n",
    "for d in promoters.as_matrix():\n",
    "    x.append(abs((d[1]-d[2])/2+d[1]))\n",
    "promoters['average'] = x\n",
    "\n",
    "tss = pd.read_csv('hglft_genome_tss_38.BED',sep='\\t',header=None)\n",
    "tss = tss.drop_duplicates()\n",
    "tss = tss.as_matrix()            "
   ]
  },
  {
   "cell_type": "code",
   "execution_count": 7,
   "metadata": {},
   "outputs": [],
   "source": [
    "#functionally map promoters to genes\n",
    "y = []\n",
    "for d in promoters.as_matrix():\n",
    "    for f in tss:\n",
    "        if abs(d[4] - f[1]) < 2500:\n",
    "            y.append([d[0],d[1],d[2],f[3]])"
   ]
  },
  {
   "cell_type": "code",
   "execution_count": 8,
   "metadata": {},
   "outputs": [
    {
     "data": {
      "text/html": [
       "<div>\n",
       "<style scoped>\n",
       "    .dataframe tbody tr th:only-of-type {\n",
       "        vertical-align: middle;\n",
       "    }\n",
       "\n",
       "    .dataframe tbody tr th {\n",
       "        vertical-align: top;\n",
       "    }\n",
       "\n",
       "    .dataframe thead th {\n",
       "        text-align: right;\n",
       "    }\n",
       "</style>\n",
       "<table border=\"1\" class=\"dataframe\">\n",
       "  <thead>\n",
       "    <tr style=\"text-align: right;\">\n",
       "      <th></th>\n",
       "      <th>0</th>\n",
       "      <th>1</th>\n",
       "      <th>2</th>\n",
       "      <th>3</th>\n",
       "    </tr>\n",
       "  </thead>\n",
       "  <tbody>\n",
       "    <tr>\n",
       "      <th>0</th>\n",
       "      <td>chr5</td>\n",
       "      <td>134758200</td>\n",
       "      <td>134759801</td>\n",
       "      <td>DDX46</td>\n",
       "    </tr>\n",
       "    <tr>\n",
       "      <th>1</th>\n",
       "      <td>chr1</td>\n",
       "      <td>179081400</td>\n",
       "      <td>179083201</td>\n",
       "      <td>TOR3A</td>\n",
       "    </tr>\n",
       "    <tr>\n",
       "      <th>2</th>\n",
       "      <td>chr3</td>\n",
       "      <td>58491600</td>\n",
       "      <td>58493001</td>\n",
       "      <td>KCTD6</td>\n",
       "    </tr>\n",
       "    <tr>\n",
       "      <th>3</th>\n",
       "      <td>chr3</td>\n",
       "      <td>58491600</td>\n",
       "      <td>58493001</td>\n",
       "      <td>GAPT</td>\n",
       "    </tr>\n",
       "    <tr>\n",
       "      <th>4</th>\n",
       "      <td>chr1</td>\n",
       "      <td>32221600</td>\n",
       "      <td>32223201</td>\n",
       "      <td>TMEM234</td>\n",
       "    </tr>\n",
       "  </tbody>\n",
       "</table>\n",
       "</div>"
      ],
      "text/plain": [
       "      0          1          2        3\n",
       "0  chr5  134758200  134759801    DDX46\n",
       "1  chr1  179081400  179083201    TOR3A\n",
       "2  chr3   58491600   58493001    KCTD6\n",
       "3  chr3   58491600   58493001     GAPT\n",
       "4  chr1   32221600   32223201  TMEM234"
      ]
     },
     "execution_count": 8,
     "metadata": {},
     "output_type": "execute_result"
    }
   ],
   "source": [
    "x = []\n",
    "for d in y:\n",
    "    x.append('chr'+str(d[0]))\n",
    "mapped_promoters = pd.DataFrame(y)\n",
    "mapped_promoters[0]=x\n",
    "mapped_promoters.to_csv('hg38_promoters_mapped_by_tss.csv')\n",
    "mapped_promoters.head()"
   ]
  },
  {
   "cell_type": "code",
   "execution_count": 15,
   "metadata": {},
   "outputs": [
    {
     "data": {
      "text/plain": [
       "249"
      ]
     },
     "execution_count": 15,
     "metadata": {},
     "output_type": "execute_result"
    }
   ],
   "source": [
    "p_mat = mapped_promoters.as_matrix()\n",
    "\n",
    "snpmap_p = {d[3]:f[3] for d in snp_mat for f in p_mat if f[0] == d[0] and d[1] >= f[1] and d[1] <= f[2]}\n",
    "len(snpmap_p) #the number of significant snps mapped to promoters is 249"
   ]
  },
  {
   "cell_type": "code",
   "execution_count": 38,
   "metadata": {},
   "outputs": [
    {
     "data": {
      "text/plain": [
       "4277"
      ]
     },
     "execution_count": 38,
     "metadata": {},
     "output_type": "execute_result"
    }
   ],
   "source": [
    "#map genes\n",
    "g_mat = genes.as_matrix()\n",
    "\n",
    "snpmap_g = {d[3]:f[3] for d in snp_mat for f in g_mat if f[0] == d[0] and d[1] >= f[1] and d[1] <= f[2]}\n",
    "len(snpmap_g) #the number of significant snps mapped to genes was 4277"
   ]
  },
  {
   "cell_type": "code",
   "execution_count": 44,
   "metadata": {
    "scrolled": true
   },
   "outputs": [
    {
     "data": {
      "text/html": [
       "<div>\n",
       "<style scoped>\n",
       "    .dataframe tbody tr th:only-of-type {\n",
       "        vertical-align: middle;\n",
       "    }\n",
       "\n",
       "    .dataframe tbody tr th {\n",
       "        vertical-align: top;\n",
       "    }\n",
       "\n",
       "    .dataframe thead th {\n",
       "        text-align: right;\n",
       "    }\n",
       "</style>\n",
       "<table border=\"1\" class=\"dataframe\">\n",
       "  <thead>\n",
       "    <tr style=\"text-align: right;\">\n",
       "      <th></th>\n",
       "      <th>snpid</th>\n",
       "      <th>gene</th>\n",
       "      <th>chr</th>\n",
       "      <th>bp</th>\n",
       "      <th>pval</th>\n",
       "    </tr>\n",
       "  </thead>\n",
       "  <tbody>\n",
       "    <tr>\n",
       "      <th>0</th>\n",
       "      <td>rs4592207</td>\n",
       "      <td>SKI</td>\n",
       "      <td>chr1</td>\n",
       "      <td>2359358</td>\n",
       "      <td>0.001813</td>\n",
       "    </tr>\n",
       "    <tr>\n",
       "      <th>1</th>\n",
       "      <td>rs4592207</td>\n",
       "      <td>PANK4</td>\n",
       "      <td>chr1</td>\n",
       "      <td>2359358</td>\n",
       "      <td>0.001813</td>\n",
       "    </tr>\n",
       "    <tr>\n",
       "      <th>2</th>\n",
       "      <td>rs10910078</td>\n",
       "      <td>SKI</td>\n",
       "      <td>chr1</td>\n",
       "      <td>2380448</td>\n",
       "      <td>0.002838</td>\n",
       "    </tr>\n",
       "    <tr>\n",
       "      <th>3</th>\n",
       "      <td>rs10909901</td>\n",
       "      <td>HES5</td>\n",
       "      <td>chr1</td>\n",
       "      <td>3121095</td>\n",
       "      <td>0.002338</td>\n",
       "    </tr>\n",
       "    <tr>\n",
       "      <th>4</th>\n",
       "      <td>rs10909901</td>\n",
       "      <td>PRDM16</td>\n",
       "      <td>chr1</td>\n",
       "      <td>3121095</td>\n",
       "      <td>0.002338</td>\n",
       "    </tr>\n",
       "  </tbody>\n",
       "</table>\n",
       "</div>"
      ],
      "text/plain": [
       "        snpid    gene   chr       bp      pval\n",
       "0   rs4592207     SKI  chr1  2359358  0.001813\n",
       "1   rs4592207   PANK4  chr1  2359358  0.001813\n",
       "2  rs10910078     SKI  chr1  2380448  0.002838\n",
       "3  rs10909901    HES5  chr1  3121095  0.002338\n",
       "4  rs10909901  PRDM16  chr1  3121095  0.002338"
      ]
     },
     "execution_count": 44,
     "metadata": {},
     "output_type": "execute_result"
    }
   ],
   "source": [
    "#make dataframe with snpid, gene symbol, p-value, and source\n",
    "\n",
    "x = []\n",
    "for k,v in snpmap.items():\n",
    "    x.append([k,v])\n",
    "for k,v in snpmap_p.items():\n",
    "    x.append([k,v])\n",
    "for k,v in snpmap_g.items():\n",
    "    x.append([k,v])\n",
    "snp_genes = pd.DataFrame(x)\n",
    "snp_genes.columns = ['snpid','gene']\n",
    "snp_genes = snp_genes.merge(snps, how = 'inner', right_on = 'snpid', left_on = 'snpid')\n",
    "snp_genes.head() #6887 snps mapped"
   ]
  },
  {
   "cell_type": "code",
   "execution_count": 45,
   "metadata": {},
   "outputs": [],
   "source": [
    "#only get smallest pvals within each gene\n",
    "\n",
    "def func(group):\n",
    "    return group.loc[group['pval'] == group['pval'].min()]\n",
    "\n",
    "snp_genes = snp_genes.groupby('gene', as_index=False).apply(func).reset_index(drop=True)"
   ]
  },
  {
   "cell_type": "code",
   "execution_count": 46,
   "metadata": {},
   "outputs": [
    {
     "data": {
      "text/plain": [
       "2124"
      ]
     },
     "execution_count": 46,
     "metadata": {},
     "output_type": "execute_result"
    }
   ],
   "source": [
    "len(snp_genes)"
   ]
  },
  {
   "cell_type": "code",
   "execution_count": 54,
   "metadata": {},
   "outputs": [],
   "source": [
    "snp_genes = snp_genes.sort_values(by = 'pval').reset_index(drop = True) #Reset list"
   ]
  },
  {
   "cell_type": "markdown",
   "metadata": {},
   "source": [
    "# Importing the Genehancer database\n",
    "\n",
    "Please see the file Remapping_SNPs_EnhancerAtlas"
   ]
  },
  {
   "cell_type": "code",
   "execution_count": null,
   "metadata": {},
   "outputs": [],
   "source": []
  }
 ],
 "metadata": {
  "kernelspec": {
   "display_name": "Python 3",
   "language": "python",
   "name": "python3"
  },
  "language_info": {
   "codemirror_mode": {
    "name": "ipython",
    "version": 3
   },
   "file_extension": ".py",
   "mimetype": "text/x-python",
   "name": "python",
   "nbconvert_exporter": "python",
   "pygments_lexer": "ipython3",
   "version": "3.6.4"
  }
 },
 "nbformat": 4,
 "nbformat_minor": 2
}
