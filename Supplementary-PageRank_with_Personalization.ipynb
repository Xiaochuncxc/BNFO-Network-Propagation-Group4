{
 "cells": [
  {
   "cell_type": "markdown",
   "metadata": {},
   "source": [
    "# Supplementary: Personalized PageRank\n",
    "\n",
    "In this notebook we apply pagerank to our most significant GWAS hits using the power method supplied in networkx. We also try to build an iterative algorithm because networkx.pagerank was too computationally intensive to run on the whole network on my laptop. Thus, initially the networkx implementation is run on the top ~4000 most significant genes, but the iterative implementation used the entire PCNet network. We also tried the networkx implementation on the entire network, which performed approximately 10% better than using the minimal network. \n",
    "\n",
    "-log p-values are mapped to genes based on whether the snp lies in the gene body, promoter, or in an enhancer that likely regulates the transcription of a gene. See Remapping SNPs Part II for more information as to how this was done. The smallest p-value for each gene is used for the analysis, and the normalized personalization vector consists of the normalized -log p-values. 0.85 is the most used decay factor (alpha) in PPR calculations, so we elected to use that value here. \n",
    "\n",
    "Note: After trying to remap the p-values to the genehancer and enhancer atlas databases, they were found to perform poorly compared to mapping genes according to proximity to snps (within 10 kb). \n",
    "\n",
    "The iterative equation for PageRank is found below:\n",
    "\n",
    "x = alpha*P*x + (1-alpha)*b\n",
    "\n",
    "The first term in this equation describes a random walk, where P is the transition matrix (transpose of the network) and alpha is the decay factor. The second term defines the personalization, where b is the personalization vector. \n",
    "\n",
    "After implementing PPR, we validate overlap between the top 260 genes and those identified in the CTD database, as well as those identified in the schizophrenia TWAS study."
   ]
  },
  {
   "cell_type": "code",
   "execution_count": 1,
   "metadata": {},
   "outputs": [],
   "source": [
    "import pandas as pd\n",
    "import numpy as np\n",
    "import networkx as nx\n",
    "import time\n",
    "import scipy\n",
    "import copy"
   ]
  },
  {
   "cell_type": "code",
   "execution_count": 2,
   "metadata": {},
   "outputs": [
    {
     "data": {
      "text/html": [
       "<div>\n",
       "<style scoped>\n",
       "    .dataframe tbody tr th:only-of-type {\n",
       "        vertical-align: middle;\n",
       "    }\n",
       "\n",
       "    .dataframe tbody tr th {\n",
       "        vertical-align: top;\n",
       "    }\n",
       "\n",
       "    .dataframe thead th {\n",
       "        text-align: right;\n",
       "    }\n",
       "</style>\n",
       "<table border=\"1\" class=\"dataframe\">\n",
       "  <thead>\n",
       "    <tr style=\"text-align: right;\">\n",
       "      <th></th>\n",
       "      <th>Unnamed: 0</th>\n",
       "      <th>snpid</th>\n",
       "      <th>gene</th>\n",
       "      <th>chr</th>\n",
       "      <th>bp</th>\n",
       "      <th>pval</th>\n",
       "      <th>-logP</th>\n",
       "    </tr>\n",
       "  </thead>\n",
       "  <tbody>\n",
       "    <tr>\n",
       "      <th>0</th>\n",
       "      <td>0</td>\n",
       "      <td>rs6494623</td>\n",
       "      <td>AAGAB</td>\n",
       "      <td>chr15</td>\n",
       "      <td>65118060</td>\n",
       "      <td>0.001136</td>\n",
       "      <td>0.643752</td>\n",
       "    </tr>\n",
       "    <tr>\n",
       "      <th>1</th>\n",
       "      <td>1</td>\n",
       "      <td>rs9395010</td>\n",
       "      <td>AARS2</td>\n",
       "      <td>chr6</td>\n",
       "      <td>44453984</td>\n",
       "      <td>0.000047</td>\n",
       "      <td>2.023902</td>\n",
       "    </tr>\n",
       "    <tr>\n",
       "      <th>2</th>\n",
       "      <td>2</td>\n",
       "      <td>rs1317763</td>\n",
       "      <td>ABCA12</td>\n",
       "      <td>chr2</td>\n",
       "      <td>216158900</td>\n",
       "      <td>0.002019</td>\n",
       "      <td>0.393793</td>\n",
       "    </tr>\n",
       "    <tr>\n",
       "      <th>3</th>\n",
       "      <td>3</td>\n",
       "      <td>rs1963367</td>\n",
       "      <td>ABCB6</td>\n",
       "      <td>chr2</td>\n",
       "      <td>220582392</td>\n",
       "      <td>0.001261</td>\n",
       "      <td>0.598117</td>\n",
       "    </tr>\n",
       "    <tr>\n",
       "      <th>4</th>\n",
       "      <td>4</td>\n",
       "      <td>rs4401068</td>\n",
       "      <td>ABCC11</td>\n",
       "      <td>chr16</td>\n",
       "      <td>45354669</td>\n",
       "      <td>0.002305</td>\n",
       "      <td>0.336337</td>\n",
       "    </tr>\n",
       "  </tbody>\n",
       "</table>\n",
       "</div>"
      ],
      "text/plain": [
       "   Unnamed: 0      snpid    gene    chr         bp      pval     -logP\n",
       "0           0  rs6494623   AAGAB  chr15   65118060  0.001136  0.643752\n",
       "1           1  rs9395010   AARS2   chr6   44453984  0.000047  2.023902\n",
       "2           2  rs1317763  ABCA12   chr2  216158900  0.002019  0.393793\n",
       "3           3  rs1963367   ABCB6   chr2  220582392  0.001261  0.598117\n",
       "4           4  rs4401068  ABCC11  chr16   45354669  0.002305  0.336337"
      ]
     },
     "execution_count": 2,
     "metadata": {},
     "output_type": "execute_result"
    }
   ],
   "source": [
    "gene_stats = pd.read_csv(\"snp_remapped.csv\") #enhancer_atlas mapping\n",
    "gene_stats['-logP'] = -np.log10(gene_stats['pval'])+np.log10(0.005)\n",
    "gene_stats.head()"
   ]
  },
  {
   "cell_type": "code",
   "execution_count": 3,
   "metadata": {},
   "outputs": [],
   "source": [
    "from ndex.networkn import NdexGraph\n",
    "import pickle\n",
    "import operator\n",
    "\n",
    "def save_object(obj, filename):\n",
    "    with open(filename, 'wb') as output:  # Overwrites any existing file.\n",
    "        pickle.dump(obj, output, pickle.HIGHEST_PROTOCOL)"
   ]
  },
  {
   "cell_type": "code",
   "execution_count": null,
   "metadata": {},
   "outputs": [],
   "source": [
    "#Import PCNet\n",
    "\n",
    "dG=NdexGraph(server='http://www.ndexbio.org', uuid= 'f93f402c-86d4-11e7-a10d-0ac135e8bacf')\n",
    "G=nx.Graph(dG)\n",
    "G=nx.relabel_nodes(G,nx.get_node_attributes(dG,'name'),copy=True)\n",
    "save_object(G, 'G.pkl')"
   ]
  },
  {
   "cell_type": "code",
   "execution_count": 4,
   "metadata": {},
   "outputs": [],
   "source": [
    "with open('G.pkl', 'rb') as input:\n",
    "    G = pickle.load(input)"
   ]
  },
  {
   "cell_type": "code",
   "execution_count": 5,
   "metadata": {},
   "outputs": [
    {
     "data": {
      "text/plain": [
       "1996"
      ]
     },
     "execution_count": 5,
     "metadata": {},
     "output_type": "execute_result"
    }
   ],
   "source": [
    "#Reduce size of network to allow calculation on laptop\n",
    "\n",
    "G_min = G.subgraph(gene_stats['gene']) #gene stats only contains genes with p values <0.005\n",
    "len(G_min)"
   ]
  },
  {
   "cell_type": "code",
   "execution_count": 6,
   "metadata": {},
   "outputs": [
    {
     "data": {
      "text/plain": [
       "1996"
      ]
     },
     "execution_count": 6,
     "metadata": {},
     "output_type": "execute_result"
    }
   ],
   "source": [
    "#Make personalization vector\n",
    "\n",
    "b = {} #dictionary of normalized -log p-values\n",
    "\n",
    "for n, d in enumerate(G_min.nodes): \n",
    "    b.update({d:(-np.log10(gene_stats['pval'][n])+np.log10(0.005))/(-np.log10(gene_stats['pval'][0])+np.log10(0.005))})\n",
    "\n",
    "len(b)"
   ]
  },
  {
   "cell_type": "code",
   "execution_count": 28,
   "metadata": {},
   "outputs": [
    {
     "data": {
      "text/html": [
       "<div>\n",
       "<style scoped>\n",
       "    .dataframe tbody tr th:only-of-type {\n",
       "        vertical-align: middle;\n",
       "    }\n",
       "\n",
       "    .dataframe tbody tr th {\n",
       "        vertical-align: top;\n",
       "    }\n",
       "\n",
       "    .dataframe thead th {\n",
       "        text-align: right;\n",
       "    }\n",
       "</style>\n",
       "<table border=\"1\" class=\"dataframe\">\n",
       "  <thead>\n",
       "    <tr style=\"text-align: right;\">\n",
       "      <th></th>\n",
       "      <th>0</th>\n",
       "      <th>1</th>\n",
       "    </tr>\n",
       "  </thead>\n",
       "  <tbody>\n",
       "    <tr>\n",
       "      <th>0</th>\n",
       "      <td>APP</td>\n",
       "      <td>0.004953</td>\n",
       "    </tr>\n",
       "    <tr>\n",
       "      <th>1</th>\n",
       "      <td>MYC</td>\n",
       "      <td>0.004066</td>\n",
       "    </tr>\n",
       "    <tr>\n",
       "      <th>2</th>\n",
       "      <td>HSPA8</td>\n",
       "      <td>0.003589</td>\n",
       "    </tr>\n",
       "    <tr>\n",
       "      <th>3</th>\n",
       "      <td>SP1</td>\n",
       "      <td>0.003339</td>\n",
       "    </tr>\n",
       "    <tr>\n",
       "      <th>4</th>\n",
       "      <td>POLR2B</td>\n",
       "      <td>0.002835</td>\n",
       "    </tr>\n",
       "  </tbody>\n",
       "</table>\n",
       "</div>"
      ],
      "text/plain": [
       "        0         1\n",
       "0     APP  0.004953\n",
       "1     MYC  0.004066\n",
       "2   HSPA8  0.003589\n",
       "3     SP1  0.003339\n",
       "4  POLR2B  0.002835"
      ]
     },
     "execution_count": 28,
     "metadata": {},
     "output_type": "execute_result"
    }
   ],
   "source": [
    "#First implement analytical solution in networkx\n",
    "\n",
    "ppr_schiz = nx.pagerank(G_min, alpha = 0.85, personalization=b)\n",
    "ppr_schiz = sorted(ppr_schiz.items(), key=operator.itemgetter(1), reverse = True)\n",
    "ppr_schiz = pd.DataFrame(ppr_schiz)\n",
    "ppr_schiz.head()"
   ]
  },
  {
   "cell_type": "code",
   "execution_count": 29,
   "metadata": {},
   "outputs": [],
   "source": [
    "#export list\n",
    "\n",
    "ppr_schiz.iloc[0:260,0].to_csv('ppr_schiz_networkx_enhanceratlas.csv')"
   ]
  },
  {
   "cell_type": "code",
   "execution_count": 7,
   "metadata": {},
   "outputs": [],
   "source": [
    "#analytical solution, functions for random walk adapted from Idekar Lab GITHUB\n",
    "\n",
    "def normalize_network(network, symmetric_norm=False):\n",
    "    adj_mat = nx.adjacency_matrix(network)\n",
    "    adj_array = np.array(adj_mat.todense())\n",
    "    if symmetric_norm:\n",
    "        D = np.diag(1/np.sqrt(sum(adj_array)))\n",
    "        adj_array_norm = np.dot(np.dot(D, adj_array), D)\n",
    "    else:\n",
    "        degree_norm_array = np.diag(1/sum(adj_array).astype(float))\n",
    "        sparse_degree_norm_array = scipy.sparse.csr_matrix(degree_norm_array)\n",
    "        adj_array_norm = sparse_degree_norm_array.dot(adj_mat).toarray()\n",
    "    return adj_array_norm\n",
    "\n",
    "# PPR, iterative \n",
    "def ppr_iterative (alpha, binary_mat,adj_array_norm): #binary mat is personalization\n",
    "    t=0\n",
    "    n=len(adj_array_norm) #number of nodes\n",
    "    term0=np.zeros((1,n)) #initial values\n",
    "    term1=term0 #updates each time\n",
    "    while True:\n",
    "        #x = alpha*P*x + (1-alpha)*b\n",
    "        term2 = np.dot((1-alpha)*term1,adj_array_norm) + (1-alpha)*binary_mat #restart probability is related to personalization\n",
    "        t +=1\n",
    "        dist = np.linalg.norm(term2-term1)\n",
    "        if dist < 0.000001:\n",
    "            print('iterate times t:',t)\n",
    "            return term2\n",
    "            break\n",
    "        else:\n",
    "            term1=term2 \n",
    "        if t==21:\n",
    "            print('time out at t = 15')\n",
    "            break\n",
    "\n",
    "# RWR, iterative\n",
    "def rwr_iterative (alpha, binary_mat,adj_array_norm): #binary mat is personalization\n",
    "    t=0\n",
    "    n=len(adj_array_norm) #number of nodes\n",
    "    term0=binary_mat #initial values\n",
    "    term1=term0 #updates each time\n",
    "    while True:\n",
    "        #x = alpha*P*x + (1-alpha)*b\n",
    "        term2 = np.dot((1-alpha)*term1,adj_array_norm) + alpha*term0\n",
    "        t +=1\n",
    "        dist = np.linalg.norm(term2-term1)\n",
    "        if dist < 0.000001:\n",
    "            print('iterate times t:',t)\n",
    "            return term2\n",
    "            break\n",
    "        else:\n",
    "            term1=term2  \n",
    "        if t==21:\n",
    "            print('time out at t = 15')\n",
    "            break\n",
    "            \n",
    "# create personalization vector function\n",
    "def create_personalization_mat(network, b):\n",
    "    nodes=network.nodes()\n",
    "    n=len(nodes)\n",
    "    nodes_idx_map=dict(list(zip(nodes,range(n))))\n",
    "    b_mat=np.zeros((1,n))\n",
    "    for i in b.keys():\n",
    "         if i in nodes:\n",
    "                b_mat[0,nodes_idx_map[i]]=b[i]\n",
    "    return b_mat"
   ]
  },
  {
   "cell_type": "code",
   "execution_count": 32,
   "metadata": {},
   "outputs": [
    {
     "data": {
      "text/plain": [
       "1996"
      ]
     },
     "execution_count": 32,
     "metadata": {},
     "output_type": "execute_result"
    }
   ],
   "source": [
    "#Make new personalization vector (unchanged)\n",
    "\n",
    "b = {} #dictionary of normalized -log p-values\n",
    "\n",
    "for n, d in enumerate(G_min.nodes): \n",
    "    b.update({d:(-np.log10(gene_stats['pval'][n])+np.log10(0.005))/(-np.log10(gene_stats['pval'][0])+np.log10(0.005))})\n",
    "\n",
    "len(b)"
   ]
  },
  {
   "cell_type": "code",
   "execution_count": 8,
   "metadata": {},
   "outputs": [],
   "source": [
    "# normalize the network of G \n",
    "G_adj_array_norm= normalize_network(G)\n",
    "\n",
    "#set alpha\n",
    "alpha = 0.85\n",
    "\n",
    "#personalization matrix\n",
    "b_mat=create_personalization_mat(G, b)"
   ]
  },
  {
   "cell_type": "code",
   "execution_count": null,
   "metadata": {},
   "outputs": [],
   "source": [
    "#perform PPR\n",
    "\n",
    "ppr_schiz_it = ppr_iterative(alpha, b_mat, G_adj_array_norm)"
   ]
  },
  {
   "cell_type": "code",
   "execution_count": 36,
   "metadata": {},
   "outputs": [],
   "source": [
    "#get ranked list of top 260 genes and save as csv\n",
    "\n",
    "nodes_ppr=dict(list(zip(G.nodes,ppr_schiz_it[0])))\n",
    "ppr_genes = sorted(nodes_ppr, key=nodes_ppr.get, reverse=True)\n",
    "ppr_genes = ppr_genes[0:260]\n",
    "pd.DataFrame(ppr_genes).iloc[0:260,:].to_csv('ppr_schiz_iterative_enhanceratlas.csv')"
   ]
  },
  {
   "cell_type": "code",
   "execution_count": 37,
   "metadata": {},
   "outputs": [],
   "source": [
    "#Compare networkx ppr ranking to CTD database\n",
    "\n",
    "curated_list = pd.read_csv('CTD_D012559_genes_20180607152155.csv')\n",
    "curated_list = curated_list.iloc[0:260,:].loc[:,['Gene Symbol']]\n",
    "curated_list\n",
    "\n",
    "def intersection(lst1, lst2):\n",
    "    lst3 = [value for value in lst1 if value in lst2]\n",
    "    return lst3"
   ]
  },
  {
   "cell_type": "code",
   "execution_count": 38,
   "metadata": {},
   "outputs": [
    {
     "data": {
      "text/plain": [
       "0.023076923076923078"
      ]
     },
     "execution_count": 38,
     "metadata": {},
     "output_type": "execute_result"
    }
   ],
   "source": [
    "len(intersection(ppr_schiz.iloc[0:260,0].as_matrix(),curated_list.as_matrix()))/260 "
   ]
  },
  {
   "cell_type": "code",
   "execution_count": 39,
   "metadata": {},
   "outputs": [
    {
     "data": {
      "text/plain": [
       "0.011538461538461539"
      ]
     },
     "execution_count": 39,
     "metadata": {},
     "output_type": "execute_result"
    }
   ],
   "source": [
    "#Compare iterative solution to CTD database\n",
    "\n",
    "len(intersection(pd.DataFrame(ppr_genes).iloc[0:260,:].as_matrix(),curated_list.as_matrix()))/260 "
   ]
  },
  {
   "cell_type": "code",
   "execution_count": 56,
   "metadata": {},
   "outputs": [
    {
     "data": {
      "text/plain": [
       "0.08461538461538462"
      ]
     },
     "execution_count": 56,
     "metadata": {},
     "output_type": "execute_result"
    }
   ],
   "source": [
    "#In this case it looks like the networkx implementation works better\n",
    "\n",
    "#Let's look at the original gene list (provided to all of the class) and perform the networkx implementation\n",
    "\n",
    "gene_level_summary_stats = pd.read_csv(\"C:\\\\Users\\\\magne\\\\Documents\\\\Classes\\\\BNFO286\\\\final_project\\\\gene_level_summary_stats_pmid_25056061.txt\", sep = '\\t')\n",
    "gene_p = gene_level_summary_stats.loc[:,['Gene','TopSNP P-Value']]\n",
    "gene_p_min = gene_p.loc[gene_p['TopSNP P-Value'] < 0.05]\n",
    "p_list = gene_p_min.values.T.tolist()\n",
    "G_min = G.subgraph(p_list[0])\n",
    "d_list = {}\n",
    "for n, d in enumerate(p_list[0]): #dictionary of inverse, normalized p-values (to 1)\n",
    "    d_list.update({d:(-np.log10(p_list[1][n])+np.log10(0.005))/(-np.log10(p_list[1][0])+np.log10(0.005))})\n",
    "pr_schiz_personalization = nx.pagerank(G_min, alpha = 0.85, personalization=d_list, max_iter = 10)\n",
    "schiz_per = pd.DataFrame(sorted(pr_schiz_personalization.items(), key=operator.itemgetter(1), reverse = True))\n",
    "schiz_per = schiz_per.iloc[:,0].iloc[0:260]\n",
    "len(intersection(schiz_per.as_matrix(),curated_list.as_matrix()))/260"
   ]
  },
  {
   "cell_type": "markdown",
   "metadata": {},
   "source": [
    "8% overlap between the database and the results of the network propagation indicates an ~8 fold enrichment of schizophrenia genes over random. \n",
    "\n",
    "It looks like PPR performs best with the original gene set. This increase in performance can perhaps be attributed to not mapping less relevant genes to the gene list. The original gene set is also twice as large as the remapped gene list because the the p-value cut-off was increased to 0.05."
   ]
  },
  {
   "cell_type": "code",
   "execution_count": 23,
   "metadata": {},
   "outputs": [
    {
     "name": "stderr",
     "output_type": "stream",
     "text": [
      "C:\\Users\\magne\\Anaconda3\\lib\\site-packages\\ipykernel_launcher.py:10: RuntimeWarning: divide by zero encountered in true_divide\n",
      "  # Remove the CWD from sys.path while we load stuff.\n"
     ]
    },
    {
     "name": "stdout",
     "output_type": "stream",
     "text": [
      "iterate times t: 20\n"
     ]
    },
    {
     "data": {
      "text/plain": [
       "0.011538461538461539"
      ]
     },
     "execution_count": 23,
     "metadata": {},
     "output_type": "execute_result"
    }
   ],
   "source": [
    "# Try RWR-iterative again for comparison\n",
    "\n",
    "b = {} #dictionary of normalized -log p-values\n",
    "\n",
    "for n, d in enumerate(G.nodes): \n",
    "    b.update({d:(-np.log10(gene_stats['pval'][n])+np.log10(0.005))})\n",
    "\n",
    "# normalize network G \n",
    "G_adj_array_norm= normalize_network(G)\n",
    "\n",
    "#set alpha\n",
    "alpha = 0.44\n",
    "\n",
    "#heat matrix\n",
    "\n",
    "b_mat=create_personalization_mat(G, b)\n",
    "\n",
    "#perform RWR\n",
    "\n",
    "rwr_schiz_it = rwr_iterative(alpha, b_mat, G_adj_array_norm)\n",
    "\n",
    "nodes_rwr=dict(list(zip(G.nodes,rwr_schiz_it[0])))\n",
    "rwr_genes = sorted(nodes_rwr, key=nodes_rwr.get, reverse=True)\n",
    "rwr_genes = rwr_genes[0:260]\n",
    "pd.DataFrame(rwr_genes).iloc[0:260,:].to_csv('rwr_schiz_iterative.csv')\n",
    "\n",
    "#Compute intersection\n",
    "\n",
    "len(intersection(pd.DataFrame(ppr_genes).iloc[0:260,:].as_matrix(),curated_list.as_matrix()))/260 "
   ]
  },
  {
   "cell_type": "markdown",
   "metadata": {},
   "source": [
    "The RWR performs slightly worse in this case than the PPR\n",
    "\n",
    "Things to try:\n",
    "\n",
    "Since multiple genes per snps in enhancer within genehancer database, there may be many false positives which are skewing our result. One thing to do might be to remove p-values from gene that have only one significant p-value.\n",
    "\n",
    "We can also try mapping according to TSS's that lie within 10 kb of snp.\n",
    "\n",
    "Conclusion: genehancer likely contains too many false positives to be useful for this GWAS. \n",
    "\n",
    "\n"
   ]
  }
 ],
 "metadata": {
  "kernelspec": {
   "display_name": "Python 3",
   "language": "python",
   "name": "python3"
  },
  "language_info": {
   "codemirror_mode": {
    "name": "ipython",
    "version": 3
   },
   "file_extension": ".py",
   "mimetype": "text/x-python",
   "name": "python",
   "nbconvert_exporter": "python",
   "pygments_lexer": "ipython3",
   "version": "3.6.4"
  }
 },
 "nbformat": 4,
 "nbformat_minor": 2
}
